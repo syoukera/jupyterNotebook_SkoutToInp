{
 "cells": [
  {
   "cell_type": "code",
   "execution_count": 3,
   "metadata": {},
   "outputs": [],
   "source": [
    "import pandas as pd\n",
    "import csv\n",
    "\n",
    "df = pd.read_csv('skout_datasheet', delim_whitespace=True)\n",
    "df"
   ]
  },
  {
   "cell_type": "code",
   "execution_count": 46,
   "metadata": {},
   "outputs": [],
   "source": [
    "TimeAdd = 0.01\n",
    "isAdded = False\n",
    "for index, row in df.iterrows():\n",
    "    if (row['t(sec)'] > TimeAdd) & ~isAdded:\n",
    "        rowAdd = row\n",
    "        isAdded = True\n",
    "\n",
    "outputStateValue = rowAdd\n",
    "outputStateValue = outputStateValue.rename(index={'t(sec)': 'TIME'})\n",
    "outputStateValue['TIME'] = 1.0\n",
    "outputStateValue = outputStateValue.rename(index={'P(atm)': 'PRES'})\n",
    "outputStateValue = outputStateValue.rename(index={'T(K)': 'TEMP'})\n",
    "\n",
    "name = 'inp_timeAdd' + str(TimeAdd)\n",
    "outputStateValue.to_csv(name, sep=' ', header=False, float_format='%g' )\n",
    "\n",
    "name_output = 'inp_key_timeAdd' + str(TimeAdd)\n",
    "outputFile = open(name_output, \"w\")\n",
    "outputFile.write(\"CONP\\n\")\n",
    "\n",
    "with open(name, 'r') as f:\n",
    "    for line in f:\n",
    "        if \"TIME\" in line: \n",
    "            outputFile.write(line)\n",
    "            outputFile.write(\"DELT 1.0E-12\\n\")\n",
    "        elif \"PRES\" in line: outputFile.write(line)\n",
    "        elif \"TEMP\" in line: outputFile.write(line)\n",
    "        else:                outputFile.write(\"REAC \" + line)\n",
    "\n",
    "outputFile.write(\"END\\n\")\n",
    "outputFile.close()"
   ]
  },
  {
   "cell_type": "code",
   "execution_count": 4,
   "metadata": {},
   "outputs": [
    {
     "ename": "Error",
     "evalue": "need to escape, but no escapechar set",
     "output_type": "error",
     "traceback": [
      "\u001b[0;31m---------------------------------------------------------------------------\u001b[0m",
      "\u001b[0;31mError\u001b[0m                                     Traceback (most recent call last)",
      "\u001b[0;32m<ipython-input-4-3cf68bfd736c>\u001b[0m in \u001b[0;36m<module>\u001b[0;34m()\u001b[0m\n\u001b[1;32m     19\u001b[0m \u001b[0;34m\u001b[0m\u001b[0m\n\u001b[1;32m     20\u001b[0m     \u001b[0mname\u001b[0m \u001b[0;34m=\u001b[0m \u001b[0;34m'inp_timeAdd'\u001b[0m \u001b[0;34m+\u001b[0m \u001b[0mstr\u001b[0m\u001b[0;34m(\u001b[0m\u001b[0mTimeAdd\u001b[0m\u001b[0;34m)\u001b[0m\u001b[0;34m\u001b[0m\u001b[0m\n\u001b[0;32m---> 21\u001b[0;31m     \u001b[0moutputStateValue\u001b[0m\u001b[0;34m.\u001b[0m\u001b[0mto_csv\u001b[0m\u001b[0;34m(\u001b[0m\u001b[0mname\u001b[0m\u001b[0;34m,\u001b[0m \u001b[0msep\u001b[0m\u001b[0;34m=\u001b[0m\u001b[0;34m' '\u001b[0m\u001b[0;34m,\u001b[0m \u001b[0mheader\u001b[0m\u001b[0;34m=\u001b[0m\u001b[0mFalse\u001b[0m\u001b[0;34m,\u001b[0m \u001b[0mquoting\u001b[0m\u001b[0;34m=\u001b[0m\u001b[0mcsv\u001b[0m\u001b[0;34m.\u001b[0m\u001b[0mQUOTE_NONE\u001b[0m\u001b[0;34m)\u001b[0m\u001b[0;34m\u001b[0m\u001b[0m\n\u001b[0m\u001b[1;32m     22\u001b[0m \u001b[0;34m\u001b[0m\u001b[0m\n\u001b[1;32m     23\u001b[0m     \u001b[0mTimeAdd\u001b[0m \u001b[0;34m=\u001b[0m \u001b[0mTimeAdd\u001b[0m \u001b[0;34m+\u001b[0m \u001b[0;36m0.01\u001b[0m\u001b[0;34m\u001b[0m\u001b[0m\n",
      "\u001b[0;32m/home/syoukera/.local/lib/python2.7/site-packages/pandas/core/series.pyc\u001b[0m in \u001b[0;36mto_csv\u001b[0;34m(self, *args, **kwargs)\u001b[0m\n\u001b[1;32m   4201\u001b[0m                           stacklevel=2)\n\u001b[1;32m   4202\u001b[0m             \u001b[0mkwargs\u001b[0m\u001b[0;34m[\u001b[0m\u001b[0;34m\"header\"\u001b[0m\u001b[0;34m]\u001b[0m \u001b[0;34m=\u001b[0m \u001b[0mFalse\u001b[0m  \u001b[0;31m# Backwards compatibility.\u001b[0m\u001b[0;34m\u001b[0m\u001b[0m\n\u001b[0;32m-> 4203\u001b[0;31m         \u001b[0;32mreturn\u001b[0m \u001b[0mself\u001b[0m\u001b[0;34m.\u001b[0m\u001b[0mto_frame\u001b[0m\u001b[0;34m(\u001b[0m\u001b[0;34m)\u001b[0m\u001b[0;34m.\u001b[0m\u001b[0mto_csv\u001b[0m\u001b[0;34m(\u001b[0m\u001b[0;34m**\u001b[0m\u001b[0mkwargs\u001b[0m\u001b[0;34m)\u001b[0m\u001b[0;34m\u001b[0m\u001b[0m\n\u001b[0m\u001b[1;32m   4204\u001b[0m \u001b[0;34m\u001b[0m\u001b[0m\n\u001b[1;32m   4205\u001b[0m     \u001b[0;34m@\u001b[0m\u001b[0mAppender\u001b[0m\u001b[0;34m(\u001b[0m\u001b[0mgeneric\u001b[0m\u001b[0;34m.\u001b[0m\u001b[0m_shared_docs\u001b[0m\u001b[0;34m[\u001b[0m\u001b[0;34m'isna'\u001b[0m\u001b[0;34m]\u001b[0m \u001b[0;34m%\u001b[0m \u001b[0m_shared_doc_kwargs\u001b[0m\u001b[0;34m)\u001b[0m\u001b[0;34m\u001b[0m\u001b[0m\n",
      "\u001b[0;32m/home/syoukera/.local/lib/python2.7/site-packages/pandas/core/generic.pyc\u001b[0m in \u001b[0;36mto_csv\u001b[0;34m(self, path_or_buf, sep, na_rep, float_format, columns, header, index, index_label, mode, encoding, compression, quoting, quotechar, line_terminator, chunksize, tupleize_cols, date_format, doublequote, escapechar, decimal)\u001b[0m\n\u001b[1;32m   3018\u001b[0m                                  \u001b[0mdoublequote\u001b[0m\u001b[0;34m=\u001b[0m\u001b[0mdoublequote\u001b[0m\u001b[0;34m,\u001b[0m\u001b[0;34m\u001b[0m\u001b[0m\n\u001b[1;32m   3019\u001b[0m                                  escapechar=escapechar, decimal=decimal)\n\u001b[0;32m-> 3020\u001b[0;31m         \u001b[0mformatter\u001b[0m\u001b[0;34m.\u001b[0m\u001b[0msave\u001b[0m\u001b[0;34m(\u001b[0m\u001b[0;34m)\u001b[0m\u001b[0;34m\u001b[0m\u001b[0m\n\u001b[0m\u001b[1;32m   3021\u001b[0m \u001b[0;34m\u001b[0m\u001b[0m\n\u001b[1;32m   3022\u001b[0m         \u001b[0;32mif\u001b[0m \u001b[0mpath_or_buf\u001b[0m \u001b[0;32mis\u001b[0m \u001b[0mNone\u001b[0m\u001b[0;34m:\u001b[0m\u001b[0;34m\u001b[0m\u001b[0m\n",
      "\u001b[0;32m/home/syoukera/.local/lib/python2.7/site-packages/pandas/io/formats/csvs.pyc\u001b[0m in \u001b[0;36msave\u001b[0;34m(self)\u001b[0m\n\u001b[1;32m    170\u001b[0m                 \u001b[0mself\u001b[0m\u001b[0;34m.\u001b[0m\u001b[0mwriter\u001b[0m \u001b[0;34m=\u001b[0m \u001b[0mUnicodeWriter\u001b[0m\u001b[0;34m(\u001b[0m\u001b[0mf\u001b[0m\u001b[0;34m,\u001b[0m \u001b[0;34m**\u001b[0m\u001b[0mwriter_kwargs\u001b[0m\u001b[0;34m)\u001b[0m\u001b[0;34m\u001b[0m\u001b[0m\n\u001b[1;32m    171\u001b[0m \u001b[0;34m\u001b[0m\u001b[0m\n\u001b[0;32m--> 172\u001b[0;31m             \u001b[0mself\u001b[0m\u001b[0;34m.\u001b[0m\u001b[0m_save\u001b[0m\u001b[0;34m(\u001b[0m\u001b[0;34m)\u001b[0m\u001b[0;34m\u001b[0m\u001b[0m\n\u001b[0m\u001b[1;32m    173\u001b[0m \u001b[0;34m\u001b[0m\u001b[0m\n\u001b[1;32m    174\u001b[0m         \u001b[0;32mfinally\u001b[0m\u001b[0;34m:\u001b[0m\u001b[0;34m\u001b[0m\u001b[0m\n",
      "\u001b[0;32m/home/syoukera/.local/lib/python2.7/site-packages/pandas/io/formats/csvs.pyc\u001b[0m in \u001b[0;36m_save\u001b[0;34m(self)\u001b[0m\n\u001b[1;32m    286\u001b[0m                 \u001b[0;32mbreak\u001b[0m\u001b[0;34m\u001b[0m\u001b[0m\n\u001b[1;32m    287\u001b[0m \u001b[0;34m\u001b[0m\u001b[0m\n\u001b[0;32m--> 288\u001b[0;31m             \u001b[0mself\u001b[0m\u001b[0;34m.\u001b[0m\u001b[0m_save_chunk\u001b[0m\u001b[0;34m(\u001b[0m\u001b[0mstart_i\u001b[0m\u001b[0;34m,\u001b[0m \u001b[0mend_i\u001b[0m\u001b[0;34m)\u001b[0m\u001b[0;34m\u001b[0m\u001b[0m\n\u001b[0m\u001b[1;32m    289\u001b[0m \u001b[0;34m\u001b[0m\u001b[0m\n\u001b[1;32m    290\u001b[0m     \u001b[0;32mdef\u001b[0m \u001b[0m_save_chunk\u001b[0m\u001b[0;34m(\u001b[0m\u001b[0mself\u001b[0m\u001b[0;34m,\u001b[0m \u001b[0mstart_i\u001b[0m\u001b[0;34m,\u001b[0m \u001b[0mend_i\u001b[0m\u001b[0;34m)\u001b[0m\u001b[0;34m:\u001b[0m\u001b[0;34m\u001b[0m\u001b[0m\n",
      "\u001b[0;32m/home/syoukera/.local/lib/python2.7/site-packages/pandas/io/formats/csvs.pyc\u001b[0m in \u001b[0;36m_save_chunk\u001b[0;34m(self, start_i, end_i)\u001b[0m\n\u001b[1;32m    313\u001b[0m \u001b[0;34m\u001b[0m\u001b[0m\n\u001b[1;32m    314\u001b[0m         libwriters.write_csv_rows(self.data, ix, self.nlevels,\n\u001b[0;32m--> 315\u001b[0;31m                                   self.cols, self.writer)\n\u001b[0m",
      "\u001b[0;32mpandas/_libs/writers.pyx\u001b[0m in \u001b[0;36mpandas._libs.writers.write_csv_rows\u001b[0;34m()\u001b[0m\n",
      "\u001b[0;31mError\u001b[0m: need to escape, but no escapechar set"
     ]
    }
   ],
   "source": [
    "# TimeAdd の時刻でOを追加する\n",
    "TimeAdd = 0.01\n",
    "while TimeAdd < 0.1:\n",
    "    isAdded = False\n",
    "    for index, row in df.iterrows():\n",
    "        if (row['t(sec)'] > TimeAdd) & ~isAdded:\n",
    "            rowAdd = row\n",
    "            isAdded = True\n",
    "    \n",
    "    outputStateValue = rowAdd\n",
    "    outputStateValue.rename(index=lambda s: 'REAC ' + s, inplace=True)\n",
    "    outputStateValue = outputStateValue.rename(index={'REAC t(sec)': 'TIME'})\n",
    "    outputStateValue['TIME'] = 1.0\n",
    "    outputStateValue = outputStateValue.rename(index={'REAC P(atm)': 'PRES'})\n",
    "    outputStateValue = outputStateValue.rename(index={'REAC T(K)': 'TEMP'})\n",
    "\n",
    "    delt = pd.Series([1.0E-12], index=['DELT'])\n",
    "    outputStateValue.append(delt)\n",
    "    \n",
    "    name = 'inp_timeAdd' + str(TimeAdd)\n",
    "    outputStateValue.to_csv(name, sep=' ', header=False, quoting=csv.QUOTE_NONE)\n",
    "    \n",
    "    TimeAdd = TimeAdd + 0.01"
   ]
  },
  {
   "cell_type": "code",
   "execution_count": 93,
   "metadata": {},
   "outputs": [
    {
     "data": {
      "text/plain": [
       "TIME          1.000000e+00\n",
       "PRES          1.000000e+00\n",
       "TEMP          6.000000e+02\n",
       "nC7H16        1.380704e-02\n",
       "nC7H15a       7.776920e-18\n",
       "nC7H15b       1.124861e-17\n",
       "nC7H15c       1.129201e-17\n",
       "nC7H15d       5.546061e-18\n",
       "C6H13a        1.205644e-23\n",
       "C5H11a        1.218597e-21\n",
       "nC3H7         4.648332e-21\n",
       "nC4H9         3.658675e-21\n",
       "C7H15OOa      1.839870e-15\n",
       "C7H15Oa       1.593434e-25\n",
       "C3H6          5.027023e-17\n",
       "C7H15OOb      3.093656e-15\n",
       "C7H15Ob       1.421810e-25\n",
       "C6H12a        1.333231e-17\n",
       "n1C4H8        6.077390e-17\n",
       "C7H15OOc      3.138811e-15\n",
       "C7H15Oc       1.441433e-25\n",
       "C5H10a        6.029998e-17\n",
       "C7H15OOd      2.220491e-15\n",
       "C7H15Od       9.970533e-26\n",
       "C6H13b        4.286605e-27\n",
       "C6H13c        7.410309e-26\n",
       "C6H13OOa      2.785871e-21\n",
       "C6H13Oa       1.053170e-35\n",
       "C5H11b        5.557565e-25\n",
       "C5H11OOa      2.320330e-19\n",
       "                  ...     \n",
       "CH3O          4.511647e-27\n",
       "CH3OH         2.781927e-27\n",
       "CO2           1.966472e-26\n",
       "HOCO          0.000000e+00\n",
       "HOCHO         1.913394e-35\n",
       "CH3OO         7.173733e-19\n",
       "CH3OOH        6.451215e-22\n",
       "C2H           7.607992e-55\n",
       "C2H2          3.547041e-35\n",
       "C2H3          5.916520e-34\n",
       "C2H4          1.109388e-17\n",
       "C2H5          2.794351e-21\n",
       "C2H6          1.740451e-23\n",
       "HCCO          2.041882e-33\n",
       "CH2CO         1.002932e-18\n",
       "CH3CO         3.564885e-22\n",
       "CH2CHO        5.082918e-19\n",
       "C2H4cyO       1.151512e-22\n",
       "CH3CHO        5.730330e-17\n",
       "C2H5O         2.393988e-27\n",
       "pC2H4OH       4.992404e-32\n",
       "sC2H4OH       4.318788e-38\n",
       "C2H5OH        7.902782e-32\n",
       "CH3CO2        7.229678e-30\n",
       "C2H4OOH       4.321281e-22\n",
       "C2H5OO        5.012195e-18\n",
       "C2H5OOH       3.976103e-21\n",
       "CH3C(O)OO     1.519494e-19\n",
       "CH3C(O)OOH    8.156759e-23\n",
       "O2C2H4OH      1.035440e-29\n",
       "Name: 67, Length: 376, dtype: float64"
      ]
     },
     "execution_count": 93,
     "metadata": {},
     "output_type": "execute_result"
    }
   ],
   "source": [
    "outputStateValue.append(delt)\n",
    "outputStateValue"
   ]
  }
 ],
 "metadata": {
  "kernelspec": {
   "display_name": "Python 2",
   "language": "python",
   "name": "python2"
  },
  "language_info": {
   "codemirror_mode": {
    "name": "ipython",
    "version": 2
   },
   "file_extension": ".py",
   "mimetype": "text/x-python",
   "name": "python",
   "nbconvert_exporter": "python",
   "pygments_lexer": "ipython2",
   "version": "2.7.15rc1"
  }
 },
 "nbformat": 4,
 "nbformat_minor": 2
}
